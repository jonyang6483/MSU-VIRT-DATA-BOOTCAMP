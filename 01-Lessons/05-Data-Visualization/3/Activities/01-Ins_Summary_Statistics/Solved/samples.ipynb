{
 "cells": [
  {
   "cell_type": "code",
   "execution_count": 1,
   "metadata": {},
   "outputs": [],
   "source": [
    "# Dependencies\n",
    "import pandas as pd\n",
    "import matplotlib.pyplot as plt\n",
    "import scipy.stats as st\n",
    "import numpy as np"
   ]
  },
  {
   "cell_type": "code",
   "execution_count": 2,
   "metadata": {},
   "outputs": [],
   "source": [
    "# Read in the LAX temperature data\n",
    "temperature_df = pd.read_csv('../Resources/lax_temperature.csv')\n",
    "temperatures = temperature_df['HourlyDryBulbTemperature']"
   ]
  },
  {
   "cell_type": "code",
   "execution_count": 3,
   "metadata": {},
   "outputs": [
    {
     "name": "stdout",
     "output_type": "stream",
     "text": [
      "The mean temperature at the LAX airport is 57.65514310002834\n",
      "The median temperature at the LAX airport is 57.0\n",
      "The mode temperature at the LAX airport is ModeResult(mode=array([57]), count=array([327]))\n"
     ]
    }
   ],
   "source": [
    "# Demonstrate calculating measures of central tendency\n",
    "mean_numpy = np.mean(temperatures)\n",
    "print(f\"The mean temperature at the LAX airport is {mean_numpy}\")\n",
    "\n",
    "median_numpy = np.median(temperatures)\n",
    "print(f\"The median temperature at the LAX airport is {median_numpy}\")\n",
    "\n",
    "mode_scipy = st.mode(temperatures)\n",
    "print(f\"The mode temperature at the LAX airport is {mode_scipy}\")"
   ]
  },
  {
   "cell_type": "code",
   "execution_count": 4,
   "metadata": {},
   "outputs": [
    {
     "data": {
      "image/png": "[encoded data removed]",
      "text/plain": [
       "<Figure size 432x288 with 1 Axes>"
      ]
     },
     "metadata": {
      "needs_background": "light"
     },
     "output_type": "display_data"
    },
    {
     "name": "stdout",
     "output_type": "stream",
     "text": [
      "NormaltestResult(statistic=12.375208093687762, pvalue=0.002054743930466058)\n"
     ]
    }
   ],
   "source": [
    "# Characterize the data set using matplotlib and stats.normaltest\n",
    "plt.hist(temperatures)\n",
    "plt.xlabel('Temperature (°F)')\n",
    "plt.ylabel('Counts')\n",
    "plt.show()\n",
    "print(st.normaltest(temperatures.sample(50)))"
   ]
  },
  {
   "cell_type": "code",
   "execution_count": 5,
   "metadata": {},
   "outputs": [
    {
     "name": "stdout",
     "output_type": "stream",
     "text": [
      "NormaltestResult(statistic=202.53753937770153, pvalue=1.0460010849583278e-44)\n"
     ]
    }
   ],
   "source": [
    "# Run the normality test on the whole temperatures DataFrame.\n",
    "print(st.normaltest(temperatures.sample(3529)))"
   ]
  },
  {
   "cell_type": "code",
   "execution_count": 6,
   "metadata": {},
   "outputs": [
    {
     "name": "stdout",
     "output_type": "stream",
     "text": [
      "The population variance using the NumPy module is 32.33077618382955\n",
      "The population standard deviation using the NumPy module is 5.686015844493361\n"
     ]
    }
   ],
   "source": [
    "# Demonstrate calculating the variance and standard deviation using the different modules\n",
    "var_numpy = np.var(temperatures,ddof = 0)\n",
    "print(f\"The population variance using the NumPy module is {var_numpy}\")\n",
    "\n",
    "sd_numpy = np.std(temperatures,ddof = 0)\n",
    "print(f\"The population standard deviation using the NumPy module is {sd_numpy}\")"
   ]
  },
  {
   "cell_type": "code",
   "execution_count": 7,
   "metadata": {},
   "outputs": [
    {
     "name": "stdout",
     "output_type": "stream",
     "text": [
      "Roughly 68% of the data is between 51.969 and 63.341\n",
      "Roughly 95% of the data is between 46.283 and 69.027\n",
      "Roughly 99.7% of the data is between 40.597 and 74.713\n"
     ]
    }
   ],
   "source": [
    "# Calculate the 68-95-99.7 rule using the standard deviation\n",
    "print(f\"Roughly 68% of the data is between {round(mean_numpy-sd_numpy,3)} and {round(mean_numpy+sd_numpy,3)}\")\n",
    "print(f\"Roughly 95% of the data is between {round(mean_numpy-2*sd_numpy,3)} and {round(mean_numpy+2*sd_numpy,3)}\")\n",
    "print(f\"Roughly 99.7% of the data is between {round(mean_numpy-3*sd_numpy,3)} and {round(mean_numpy+3*sd_numpy,3)}\")"
   ]
  },
  {
   "cell_type": "code",
   "execution_count": 8,
   "metadata": {},
   "outputs": [
    {
     "name": "stdout",
     "output_type": "stream",
     "text": [
      "The z-scores using the SciPy module are [-0.99457041 -1.17044048 -0.99457041 ...  0.06065001  0.06065001\n",
      "  0.06065001]\n"
     ]
    }
   ],
   "source": [
    "# Demonstrate calculating the z-scores using SciPy\n",
    "z_scipy = st.zscore(temperatures)\n",
    "print(f\"The z-scores using the SciPy module are {z_scipy}\")"
   ]
  },
  {
   "cell_type": "code",
   "execution_count": null,
   "metadata": {},
   "outputs": [],
   "source": []
  }
 ],
 "metadata": {
  "kernelspec": {
   "display_name": "PythonData",
   "language": "python",
   "name": "pythondata"
  },
  "language_info": {
   "codemirror_mode": {
    "name": "ipython",
    "version": 3
   },
   "file_extension": ".py",
   "mimetype": "text/x-python",
   "name": "python",
   "nbconvert_exporter": "python",
   "pygments_lexer": "ipython3",
   "version": "3.7.7"
  }
 },
 "nbformat": 4,
 "nbformat_minor": 2
}
