{
 "cells": [
  {
   "cell_type": "code",
   "execution_count": null,
   "metadata": {},
   "outputs": [],
   "source": [
    "# Import Dependencies\n",
    "import pandas as pd"
   ]
  },
  {
   "cell_type": "code",
   "execution_count": null,
   "metadata": {},
   "outputs": [],
   "source": [
    "# Reference the file where the CSV is located\n",
    "lpg_csv_path = \"../Resources/dga_lpg.csv\"\n",
    "\n",
    "# Import the data into a Pandas DataFrame\n",
    "lpg_df = pd.read_csv(lpg_csv_path, encoding=\"UTF-8\")\n",
    "lpg_df"
   ]
  },
  {
   "cell_type": "code",
   "execution_count": null,
   "metadata": {},
   "outputs": [],
   "source": [
    "# Reduce to columns that are in English\n",
    "lpg_reduced_columns = lpg_df[[\"Part\", \"Type\", \"Brand\", \"Model\", \"Other Information\", \"Place of Manufacture\", \n",
    "                              \"Applicant\", \"Telephone Number\", \"Approval Expiry Date\"]]\n",
    "lpg_reduced_columns"
   ]
  },
  {
   "cell_type": "code",
   "execution_count": null,
   "metadata": {},
   "outputs": [],
   "source": [
    "# look for missing values\n",
    "lpg_reduced_columns.count()"
   ]
  },
  {
   "cell_type": "code",
   "execution_count": null,
   "metadata": {},
   "outputs": [],
   "source": [
    "# drop null rows\n",
    "no_null_lpg_df = lpg_reduced_columns.dropna(how='any')"
   ]
  },
  {
   "cell_type": "code",
   "execution_count": null,
   "metadata": {},
   "outputs": [],
   "source": [
    "# verify counts\n",
    "no_null_lpg_df.count()"
   ]
  },
  {
   "cell_type": "code",
   "execution_count": null,
   "metadata": {},
   "outputs": [],
   "source": [
    "# List unique values of \"Applicant\" to locate any that may be the same\n",
    "no_null_lpg_df[\"Applicant\"].unique()"
   ]
  },
  {
   "cell_type": "code",
   "execution_count": null,
   "metadata": {},
   "outputs": [],
   "source": [
    "# Combine similar applicants together\n",
    "no_null_lpg_df = no_null_lpg_df.replace(\n",
    "    {\"Crown Gas Stoves (Holdings) Company Limited\": \"Crown Gas Stoves Co., Ltd.\", \n",
    "     \"Sun Kee LP Gas Co.\": \"Sun Kee LP Gas Co. Limited\"})\n",
    "no_null_lpg_df"
   ]
  },
  {
   "cell_type": "code",
   "execution_count": null,
   "metadata": {},
   "outputs": [],
   "source": [
    "# Check to see if you combined similar applicants correctly in \"Applicant\"\n",
    "no_null_lpg_df[\"Applicant\"].unique()"
   ]
  },
  {
   "cell_type": "code",
   "execution_count": null,
   "metadata": {},
   "outputs": [],
   "source": [
    "# Create a new DataFrame that looks into a specific Place of Manufacture\n",
    "malaysia_products_df = no_null_lpg_df.loc[no_null_lpg_df[\"Place of Manufacture\"] == \"Malaysia\"]\n",
    "malaysia_products_df"
   ]
  },
  {
   "cell_type": "code",
   "execution_count": null,
   "metadata": {},
   "outputs": [],
   "source": [
    "# Create a new DataFrame that looks into a specific Place of Manufacture\n",
    "portugal_products_df = no_null_lpg_df.loc[no_null_lpg_df[\"Place of Manufacture\"] == \"Portugal\"]\n",
    "portugal_products_df"
   ]
  }
 ],
 "metadata": {
  "kernelspec": {
   "display_name": "Python 3",
   "language": "python",
   "name": "python3"
  },
  "language_info": {
   "codemirror_mode": {
    "name": "ipython",
    "version": 3
   },
   "file_extension": ".py",
   "mimetype": "text/x-python",
   "name": "python",
   "nbconvert_exporter": "python",
   "pygments_lexer": "ipython3",
   "version": "3.7.4"
  }
 },
 "nbformat": 4,
 "nbformat_minor": 2
}
